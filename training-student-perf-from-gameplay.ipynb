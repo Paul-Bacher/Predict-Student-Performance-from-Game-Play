{
 "cells": [
  {
   "cell_type": "markdown",
   "id": "0f45a98d",
   "metadata": {
    "papermill": {
     "duration": 0.005482,
     "end_time": "2023-02-26T15:03:58.898905",
     "exception": false,
     "start_time": "2023-02-26T15:03:58.893423",
     "status": "completed"
    },
    "tags": []
   },
   "source": [
    "# 🎓[Training] Student Perf from Gameplay\n",
    "---\n",
    "In this notebook, I used the baseline of *Chris Deotte* based on the idea proposed by *DataManyo*. You can check out there respective works:\n",
    "- [XGBoost Baseline - [0.676]](https://www.kaggle.com/code/cdeotte/xgboost-baseline-0-676/notebook)\n",
    "- [🥇 LightGBM baseline with aggregated log data](https://www.kaggle.com/code/kimtaehun/lightgbm-baseline-with-aggregated-log-data)\n",
    "\n",
    "I am also using **RAPIDS cuDF** instead of pandas to take advantage of GPU acceleration for reading the data, feature engineering, and training. The modifications are showed in this notebook by *Shashwat Raman*.\n",
    "- [GPU XGB Baseline (Using RAPIDS cuDF) - Train](https://www.kaggle.com/code/shashwatraman/gpu-xgb-baseline-using-rapids-cudf-train/notebook)\n",
    "\n",
    "\n",
    "I will keep track of my progress during the start of the competition. My goal now is to improve this baseline.\n",
    "\n",
    "## ✨Progress\n",
    "- ***Baseline: LB Score:* 0.676**\n",
    " - Training using 18 XGBoost models for individual questions.\n",
    " - The data is grouped into 3 groups of questions and statistics of the features are calculated.\n",
    " - Cross validation on 5 folds and training on 80% of the data (last fold).\n",
    "- ***Increasing number of CV folds:* LB Score: 0.677**\n",
    " - Using 20 folds for cross-validation and training on 95% of the data [(Chris Deotte suggestion)](https://www.kaggle.com/code/cdeotte/xgboost-baseline-0-676/comments#2146075).\n",
    " - Tried with 10 folds - LB Score: 0.676\n",
    "- ***Training on full data:* LB Score: 0.667** (with 5 folds)\n",
    " - Averaging the `best_ntree_limit` along the folds for each question.\n",
    " - Try with 5, 10, 20 folds for the average\n",
    " - The performance was slightly better by averaging 5 folds\n",
    "- **LB Score:**\n",
    " - Added min/max features\n",
    " - Added room counts\n",
    "\n",
    "# Parameters\n",
    "Here are the parameters related to the model strategy.\n",
    "- `xgb_params`: You can check the different parameters available for XGBoost. Check the documentation [here](https://xgboost.readthedocs.io/en/stable/).\n",
    "- `SAVE`: Save the 'models' dictionnary as json files.\n",
    "- `N_FOLDS`: Number of folds for the cross-validation.\n",
    "- `RETRAIN_WITH_ALL_DATA`: Retrain or not a final model using all of the data, with the number of estimators for each model determined by the averages obtained during cross-validation. If set to False, the final model is trained using the exact numbers of estimators but on the last fold of cross-validation.\n",
    "- `INFERENCE`: Choose to use this notebook for inference. Use CPU for it.\n",
    "- `MODEL_PATH`: The path to the dictionary of models stored as a dataset."
   ]
  },
  {
   "cell_type": "code",
   "execution_count": 1,
   "id": "172d4be9",
   "metadata": {
    "execution": {
     "iopub.execute_input": "2023-02-26T15:03:58.909448Z",
     "iopub.status.busy": "2023-02-26T15:03:58.908759Z",
     "iopub.status.idle": "2023-02-26T15:03:58.921277Z",
     "shell.execute_reply": "2023-02-26T15:03:58.920490Z"
    },
    "papermill": {
     "duration": 0.020036,
     "end_time": "2023-02-26T15:03:58.923366",
     "exception": false,
     "start_time": "2023-02-26T15:03:58.903330",
     "status": "completed"
    },
    "tags": []
   },
   "outputs": [],
   "source": [
    "PATH = '/kaggle/input/predict-student-performance-from-game-play'\n",
    "\n",
    "# Model params\n",
    "xgb_params = {'objective': 'binary:logistic',\n",
    "              'eval_metric': 'logloss',\n",
    "              'learning_rate': 0.05,\n",
    "              'max_depth': 4,\n",
    "              'n_estimators': 1000,\n",
    "              'early_stopping_rounds': 50,\n",
    "              'tree_method': 'gpu_hist',\n",
    "              'subsample': 0.8,\n",
    "              'colsample_bytree': 0.4,\n",
    "              'use_label_encoder': False}\n",
    "\n",
    "# Save the models as json files\n",
    "SAVE = True\n",
    "\n",
    "# Cross validation\n",
    "N_FOLDS = 5\n",
    "\n",
    "# Retrain using all data\n",
    "RETAIN_WITH_ALL_DATA = True\n",
    "\n",
    "# Use as inference notebook (Use with CPU)\n",
    "INFERENCE = False\n",
    "MODELS_DIR = '/kaggle/input/student-perf-from-gameplay-models'"
   ]
  },
  {
   "cell_type": "markdown",
   "id": "bb34e8e7",
   "metadata": {
    "papermill": {
     "duration": 0.004291,
     "end_time": "2023-02-26T15:03:58.932008",
     "exception": false,
     "start_time": "2023-02-26T15:03:58.927717",
     "status": "completed"
    },
    "tags": []
   },
   "source": [
    "# Imports"
   ]
  },
  {
   "cell_type": "code",
   "execution_count": 2,
   "id": "fdfe4dbf",
   "metadata": {
    "execution": {
     "iopub.execute_input": "2023-02-26T15:03:58.942130Z",
     "iopub.status.busy": "2023-02-26T15:03:58.941277Z",
     "iopub.status.idle": "2023-02-26T15:04:05.220645Z",
     "shell.execute_reply": "2023-02-26T15:04:05.217869Z"
    },
    "papermill": {
     "duration": 6.286891,
     "end_time": "2023-02-26T15:04:05.223197",
     "exception": false,
     "start_time": "2023-02-26T15:03:58.936306",
     "status": "completed"
    },
    "tags": []
   },
   "outputs": [
    {
     "name": "stdout",
     "output_type": "stream",
     "text": [
      "RAPIDS cuDF version: 21.10.01\n"
     ]
    }
   ],
   "source": [
    "import os\n",
    "import json\n",
    "\n",
    "import numpy as np\n",
    "import matplotlib.pyplot as plt\n",
    "\n",
    "from sklearn.model_selection import KFold, GroupKFold\n",
    "import xgboost as xgb\n",
    "from xgboost import XGBClassifier\n",
    "from sklearn.metrics import f1_score\n",
    "\n",
    "from tqdm.notebook import tqdm\n",
    "import zipfile\n",
    "from IPython.display import FileLink\n",
    "\n",
    "if INFERENCE:\n",
    "    import pandas as pd\n",
    "    print('Pandas version:', pd.__version__)\n",
    "else:\n",
    "    import cudf\n",
    "    print('RAPIDS cuDF version:', cudf.__version__)"
   ]
  },
  {
   "cell_type": "markdown",
   "id": "60d7ad93",
   "metadata": {
    "papermill": {
     "duration": 0.004353,
     "end_time": "2023-02-26T15:04:05.232464",
     "exception": false,
     "start_time": "2023-02-26T15:04:05.228111",
     "status": "completed"
    },
    "tags": []
   },
   "source": [
    "# Read the training data"
   ]
  },
  {
   "cell_type": "code",
   "execution_count": 3,
   "id": "b6620588",
   "metadata": {
    "execution": {
     "iopub.execute_input": "2023-02-26T15:04:05.242620Z",
     "iopub.status.busy": "2023-02-26T15:04:05.241695Z",
     "iopub.status.idle": "2023-02-26T15:04:39.432732Z",
     "shell.execute_reply": "2023-02-26T15:04:39.431679Z"
    },
    "papermill": {
     "duration": 34.202659,
     "end_time": "2023-02-26T15:04:39.439257",
     "exception": false,
     "start_time": "2023-02-26T15:04:05.236598",
     "status": "completed"
    },
    "tags": []
   },
   "outputs": [
    {
     "name": "stdout",
     "output_type": "stream",
     "text": [
      "Training set loaded.\n"
     ]
    }
   ],
   "source": [
    "if not INFERENCE:\n",
    "    train = cudf.read_csv(f'{PATH}/train.csv')\n",
    "    labels = cudf.read_csv(f'{PATH}/train_labels.csv')\n",
    "    labels['session'] = cudf.to_numeric(labels.session_id.str.split('_').list.get(0))\n",
    "    labels['question'] = cudf.to_numeric(labels.session_id.str.split('_q').list.get(1))\n",
    "    print(\"Training set loaded.\")\n",
    "else:\n",
    "    print(\"Inference. No training set needed.\")"
   ]
  },
  {
   "cell_type": "markdown",
   "id": "9f157fcb",
   "metadata": {
    "papermill": {
     "duration": 0.004952,
     "end_time": "2023-02-26T15:04:39.448603",
     "exception": false,
     "start_time": "2023-02-26T15:04:39.443651",
     "status": "completed"
    },
    "tags": []
   },
   "source": [
    "# Feature engineering\n",
    "I will use the idea of aggreagating the data by `session_id` and `level_group`. Check out the references at the beginning of the notebook.\n",
    "\n",
    "The aim is to create interesting features from these groups that we can use to train one model per question level."
   ]
  },
  {
   "cell_type": "code",
   "execution_count": 4,
   "id": "1d749406",
   "metadata": {
    "execution": {
     "iopub.execute_input": "2023-02-26T15:04:39.458964Z",
     "iopub.status.busy": "2023-02-26T15:04:39.458664Z",
     "iopub.status.idle": "2023-02-26T15:04:39.473661Z",
     "shell.execute_reply": "2023-02-26T15:04:39.472655Z"
    },
    "papermill": {
     "duration": 0.022871,
     "end_time": "2023-02-26T15:04:39.475869",
     "exception": false,
     "start_time": "2023-02-26T15:04:39.452998",
     "status": "completed"
    },
    "tags": []
   },
   "outputs": [],
   "source": [
    "def feature_engineer(train):\n",
    "    \n",
    "    # Prepare features\n",
    "    GROUP_COLS = ['session_id', 'level_group']\n",
    "    CATS = ['event_name', 'name', 'text', 'fqid', 'room_fqid', 'text_fqid']\n",
    "    NUMS = ['elapsed_time','level','page','room_coor_x', 'room_coor_y', \n",
    "        'screen_coor_x', 'screen_coor_y', 'hover_duration']\n",
    "    EVENT_NAMES = ['navigate_click', 'person_click', 'cutscene_click',\n",
    "               'object_click', 'map_hover', 'notification_click',\n",
    "               'map_click', 'observation_click', 'checkpoint']\n",
    "    ROOMS = ['tunic.capitol_0.hall', 'tunic.capitol_1.hall',\n",
    "             'tunic.capitol_2.hall', 'tunic.drycleaner.frontdesk',\n",
    "             'tunic.flaghouse.entry', 'tunic.historicalsociety.basement',\n",
    "             'tunic.historicalsociety.cage', 'tunic.historicalsociety.closet',\n",
    "             'tunic.historicalsociety.closet_dirty',\n",
    "             'tunic.historicalsociety.collection',\n",
    "             'tunic.historicalsociety.collection_flag',\n",
    "             'tunic.historicalsociety.entry',\n",
    "             'tunic.historicalsociety.frontdesk',\n",
    "             'tunic.historicalsociety.stacks', 'tunic.humanecology.frontdesk',\n",
    "             'tunic.kohlcenter.halloffame', 'tunic.library.frontdesk',\n",
    "             'tunic.library.microfiche', 'tunic.wildlife.center']\n",
    "    \n",
    "    dfs = []\n",
    "    \n",
    "    # N unique\n",
    "    for c in CATS:\n",
    "        tmp = train.groupby(GROUP_COLS)[c].agg('nunique')\n",
    "        tmp.name = tmp.name + '_nunique'\n",
    "        dfs.append(tmp)\n",
    "\n",
    "    # Mean\n",
    "    for c in NUMS:\n",
    "        tmp = train.groupby(GROUP_COLS)[c].agg('mean')\n",
    "        tmp.name = tmp.name + '_mean'\n",
    "        dfs.append(tmp)\n",
    "\n",
    "    # Standard deviation\n",
    "    for c in NUMS:\n",
    "        tmp = train.groupby(GROUP_COLS)[c].agg('std')\n",
    "        tmp.name = tmp.name + '_std'\n",
    "        dfs.append(tmp)\n",
    "    \n",
    "    # Maximum\n",
    "    for c in NUMS:\n",
    "        tmp = train.groupby(GROUP_COLS)[c].agg('max')\n",
    "        tmp.name = tmp.name + '_max'\n",
    "        dfs.append(tmp)\n",
    "    \n",
    "    # Minimum\n",
    "    for c in NUMS:\n",
    "        tmp = train.groupby(GROUP_COLS)[c].agg('min')\n",
    "        tmp.name = tmp.name + '_min'\n",
    "        dfs.append(tmp)\n",
    "        \n",
    "    # Count event names\n",
    "    for c in EVENT_NAMES:\n",
    "        train[c] = (train['event_name'] == c).astype('int8')\n",
    "        tmp = train.groupby(GROUP_COLS)[c].agg('sum')\n",
    "        tmp.name = tmp.name + '_count'\n",
    "        dfs.append(tmp)\n",
    "        train = train.drop(c, axis=1)\n",
    "        \n",
    "    # Count rooms\n",
    "    for c in ROOMS:\n",
    "        train[c] = (train['room_fqid'] == c).astype('int8')\n",
    "        tmp = train.groupby(GROUP_COLS)[c].agg('sum')\n",
    "        tmp.name = tmp.name + '_count'\n",
    "        dfs.append(tmp)\n",
    "        train = train.drop(c, axis=1)\n",
    "        \n",
    "    # Concatenate everything\n",
    "    try: df = cudf.concat(dfs, axis=1)\n",
    "    except: df = pd.concat(dfs, axis=1)\n",
    "    df = df.fillna(-1)\n",
    "    df = df.reset_index()\n",
    "    df = df.set_index('session_id')\n",
    "    \n",
    "    return df"
   ]
  },
  {
   "cell_type": "markdown",
   "id": "dd5bd5b9",
   "metadata": {
    "papermill": {
     "duration": 0.004203,
     "end_time": "2023-02-26T15:04:39.484517",
     "exception": false,
     "start_time": "2023-02-26T15:04:39.480314",
     "status": "completed"
    },
    "tags": []
   },
   "source": [
    "Now that we have defined the feature engineering function, we can apply it to the raw dataframe and examine the resulting aggregated dataframe, which we will use for training. Note that we have not normalized the features, because the XGBoost classifier we are using is a tree-based model. Typically, tree-based models do not require normalization, as their decision boundaries are based on the relative values of the features."
   ]
  },
  {
   "cell_type": "code",
   "execution_count": 5,
   "id": "79bd45f9",
   "metadata": {
    "execution": {
     "iopub.execute_input": "2023-02-26T15:04:39.494687Z",
     "iopub.status.busy": "2023-02-26T15:04:39.494359Z",
     "iopub.status.idle": "2023-02-26T15:04:47.986336Z",
     "shell.execute_reply": "2023-02-26T15:04:47.985183Z"
    },
    "papermill": {
     "duration": 8.499991,
     "end_time": "2023-02-26T15:04:47.989026",
     "exception": false,
     "start_time": "2023-02-26T15:04:39.489035",
     "status": "completed"
    },
    "tags": []
   },
   "outputs": [
    {
     "name": "stdout",
     "output_type": "stream",
     "text": [
      "CPU times: user 6.14 s, sys: 1.9 s, total: 8.04 s\n",
      "Wall time: 8.48 s\n",
      "Nb of features used for training: 66\n",
      "Nb of different sessions: 11779\n"
     ]
    }
   ],
   "source": [
    "if not INFERENCE:\n",
    "    %time df = feature_engineer(train).to_pandas()\n",
    "    FEATURES = [c for c in df.columns if c != 'level_group']\n",
    "    SESSIONS = df.index.unique()\n",
    "    print(\"Nb of features used for training:\", len(FEATURES))\n",
    "    print(\"Nb of different sessions:\", len(SESSIONS))\n",
    "else:\n",
    "    print(\"Inference. Feature engineering on the test set only.\")"
   ]
  },
  {
   "cell_type": "markdown",
   "id": "ef80fc89",
   "metadata": {
    "papermill": {
     "duration": 0.006331,
     "end_time": "2023-02-26T15:04:48.002911",
     "exception": false,
     "start_time": "2023-02-26T15:04:47.996580",
     "status": "completed"
    },
    "tags": []
   },
   "source": [
    "# Cross validation\n",
    "The purpose of cross-validation is to **evaluate the performance of our model** and to assess its generalization capability. The idea behind cross-validation is to split the data into several folds, and to use each fold as a validation set while the remaining data is used for training. This process is repeated several times, with each fold being used as the validation set once. It also helps to avoid overfitting, which occurs when a model is too complex and fits the training data too closely, leading to poor performance on new data."
   ]
  },
  {
   "cell_type": "code",
   "execution_count": 6,
   "id": "cf6a7b81",
   "metadata": {
    "execution": {
     "iopub.execute_input": "2023-02-26T15:04:48.016759Z",
     "iopub.status.busy": "2023-02-26T15:04:48.016403Z",
     "iopub.status.idle": "2023-02-26T15:05:40.929840Z",
     "shell.execute_reply": "2023-02-26T15:05:40.929020Z"
    },
    "papermill": {
     "duration": 52.92313,
     "end_time": "2023-02-26T15:05:40.932239",
     "exception": false,
     "start_time": "2023-02-26T15:04:48.009109",
     "status": "completed"
    },
    "tags": []
   },
   "outputs": [
    {
     "name": "stdout",
     "output_type": "stream",
     "text": [
      "\u001b[1m\u001b[94m-\u001b[1m\u001b[94m-\u001b[1m\u001b[94m-\u001b[1m\u001b[94m-\u001b[1m\u001b[94m-\u001b[1m\u001b[94m-\u001b[1m\u001b[94m-\u001b[1m\u001b[94m-\u001b[1m\u001b[94m-\u001b[1m\u001b[94m-\u001b[1m\u001b[94m-\u001b[1m\u001b[94m-\u001b[1m\u001b[94m-\u001b[1m\u001b[94m-\u001b[1m\u001b[94m-\u001b[1m\u001b[94m-\u001b[1m\u001b[94m-\u001b[1m\u001b[94m-\u001b[1m\u001b[94m-\u001b[1m\u001b[94m-\u001b[1m\u001b[94m-\u001b[1m\u001b[94m-\u001b[1m\u001b[94m-\u001b[1m\u001b[94m-\u001b[1m\u001b[94m-\u001b[1m\u001b[94m-\u001b[1m\u001b[94m-\u001b[1m\u001b[94m-\u001b[1m\u001b[94m-\u001b[1m\u001b[94m-\u001b[1m\u001b[94m-\u001b[1m\u001b[94m-\u001b[1m\u001b[94m-\u001b[1m\u001b[94m-\u001b[1m\u001b[94m-\u001b[1m\u001b[94m-\u001b[1m\u001b[94m-\u001b[1m\u001b[94m-\u001b[1m\u001b[94m-\u001b[1m\u001b[94m-\u001b[1m\u001b[94m-\u001b[1m\u001b[94m-\u001b[1m\u001b[94m-\u001b[1m\u001b[94m-\u001b[1m\u001b[94m-\u001b[1m\u001b[94m-\u001b[1m\u001b[94m-\u001b[1m\u001b[94m-\u001b[1m\u001b[94m-\u001b[1m\u001b[94m-\u001b[1m\u001b[94m-\u001b[1m\u001b[94m-\u001b[1m\u001b[94m-\u001b[1m\u001b[94m-\u001b[1m\u001b[94m-\u001b[1m\u001b[94m-\u001b[1m\u001b[94m-\u001b[1m\u001b[94m-\u001b[1m\u001b[94m-\u001b[1m\u001b[94m-\u001b[1m\u001b[94m-\u001b[1m\u001b[94m-\u001b[1m\u001b[94m-\u001b[1m\u001b[94m-\u001b[1m\u001b[94m-\u001b[1m\u001b[94m-\u001b[1m\u001b[94m-\u001b[1m\u001b[94m-\u001b[1m\u001b[94m-\u001b[1m\u001b[94m-\u001b[1m\u001b[94m-\u001b[1m\u001b[94m-\u001b[1m\u001b[94m-\u001b[1m\u001b[94m-\u001b[1m\u001b[94m-\u001b[1m\u001b[94m-\u001b[1m\u001b[94m-\u001b[1m\u001b[94m-\u001b[1m\u001b[94m-\u001b[1m\u001b[94m- \n",
      "                                   FOLD 1\n",
      "-------------------------------------------------------------------------------- \u001b[0m\n",
      "Q1(168), Q2(189), Q3(112), Q4(308), Q5(96), Q6(176), Q7(144), Q8(101), Q9(115), Q10(127), Q11(140), Q12(79), Q13(115), Q14(192), Q15(125), Q16(85), Q17(67), Q18(146), \n",
      "\u001b[1m\u001b[94m-\u001b[1m\u001b[94m-\u001b[1m\u001b[94m-\u001b[1m\u001b[94m-\u001b[1m\u001b[94m-\u001b[1m\u001b[94m-\u001b[1m\u001b[94m-\u001b[1m\u001b[94m-\u001b[1m\u001b[94m-\u001b[1m\u001b[94m-\u001b[1m\u001b[94m-\u001b[1m\u001b[94m-\u001b[1m\u001b[94m-\u001b[1m\u001b[94m-\u001b[1m\u001b[94m-\u001b[1m\u001b[94m-\u001b[1m\u001b[94m-\u001b[1m\u001b[94m-\u001b[1m\u001b[94m-\u001b[1m\u001b[94m-\u001b[1m\u001b[94m-\u001b[1m\u001b[94m-\u001b[1m\u001b[94m-\u001b[1m\u001b[94m-\u001b[1m\u001b[94m-\u001b[1m\u001b[94m-\u001b[1m\u001b[94m-\u001b[1m\u001b[94m-\u001b[1m\u001b[94m-\u001b[1m\u001b[94m-\u001b[1m\u001b[94m-\u001b[1m\u001b[94m-\u001b[1m\u001b[94m-\u001b[1m\u001b[94m-\u001b[1m\u001b[94m-\u001b[1m\u001b[94m-\u001b[1m\u001b[94m-\u001b[1m\u001b[94m-\u001b[1m\u001b[94m-\u001b[1m\u001b[94m-\u001b[1m\u001b[94m-\u001b[1m\u001b[94m-\u001b[1m\u001b[94m-\u001b[1m\u001b[94m-\u001b[1m\u001b[94m-\u001b[1m\u001b[94m-\u001b[1m\u001b[94m-\u001b[1m\u001b[94m-\u001b[1m\u001b[94m-\u001b[1m\u001b[94m-\u001b[1m\u001b[94m-\u001b[1m\u001b[94m-\u001b[1m\u001b[94m-\u001b[1m\u001b[94m-\u001b[1m\u001b[94m-\u001b[1m\u001b[94m-\u001b[1m\u001b[94m-\u001b[1m\u001b[94m-\u001b[1m\u001b[94m-\u001b[1m\u001b[94m-\u001b[1m\u001b[94m-\u001b[1m\u001b[94m-\u001b[1m\u001b[94m-\u001b[1m\u001b[94m-\u001b[1m\u001b[94m-\u001b[1m\u001b[94m-\u001b[1m\u001b[94m-\u001b[1m\u001b[94m-\u001b[1m\u001b[94m-\u001b[1m\u001b[94m-\u001b[1m\u001b[94m-\u001b[1m\u001b[94m-\u001b[1m\u001b[94m-\u001b[1m\u001b[94m-\u001b[1m\u001b[94m-\u001b[1m\u001b[94m-\u001b[1m\u001b[94m-\u001b[1m\u001b[94m-\u001b[1m\u001b[94m-\u001b[1m\u001b[94m- \n",
      "                                   FOLD 2\n",
      "-------------------------------------------------------------------------------- \u001b[0m\n",
      "Q1(216), Q2(121), Q3(137), Q4(69), Q5(97), Q6(108), Q7(141), Q8(96), Q9(101), Q10(163), Q11(61), Q12(73), Q13(135), Q14(82), Q15(93), Q16(63), Q17(45), Q18(85), \n",
      "\u001b[1m\u001b[94m-\u001b[1m\u001b[94m-\u001b[1m\u001b[94m-\u001b[1m\u001b[94m-\u001b[1m\u001b[94m-\u001b[1m\u001b[94m-\u001b[1m\u001b[94m-\u001b[1m\u001b[94m-\u001b[1m\u001b[94m-\u001b[1m\u001b[94m-\u001b[1m\u001b[94m-\u001b[1m\u001b[94m-\u001b[1m\u001b[94m-\u001b[1m\u001b[94m-\u001b[1m\u001b[94m-\u001b[1m\u001b[94m-\u001b[1m\u001b[94m-\u001b[1m\u001b[94m-\u001b[1m\u001b[94m-\u001b[1m\u001b[94m-\u001b[1m\u001b[94m-\u001b[1m\u001b[94m-\u001b[1m\u001b[94m-\u001b[1m\u001b[94m-\u001b[1m\u001b[94m-\u001b[1m\u001b[94m-\u001b[1m\u001b[94m-\u001b[1m\u001b[94m-\u001b[1m\u001b[94m-\u001b[1m\u001b[94m-\u001b[1m\u001b[94m-\u001b[1m\u001b[94m-\u001b[1m\u001b[94m-\u001b[1m\u001b[94m-\u001b[1m\u001b[94m-\u001b[1m\u001b[94m-\u001b[1m\u001b[94m-\u001b[1m\u001b[94m-\u001b[1m\u001b[94m-\u001b[1m\u001b[94m-\u001b[1m\u001b[94m-\u001b[1m\u001b[94m-\u001b[1m\u001b[94m-\u001b[1m\u001b[94m-\u001b[1m\u001b[94m-\u001b[1m\u001b[94m-\u001b[1m\u001b[94m-\u001b[1m\u001b[94m-\u001b[1m\u001b[94m-\u001b[1m\u001b[94m-\u001b[1m\u001b[94m-\u001b[1m\u001b[94m-\u001b[1m\u001b[94m-\u001b[1m\u001b[94m-\u001b[1m\u001b[94m-\u001b[1m\u001b[94m-\u001b[1m\u001b[94m-\u001b[1m\u001b[94m-\u001b[1m\u001b[94m-\u001b[1m\u001b[94m-\u001b[1m\u001b[94m-\u001b[1m\u001b[94m-\u001b[1m\u001b[94m-\u001b[1m\u001b[94m-\u001b[1m\u001b[94m-\u001b[1m\u001b[94m-\u001b[1m\u001b[94m-\u001b[1m\u001b[94m-\u001b[1m\u001b[94m-\u001b[1m\u001b[94m-\u001b[1m\u001b[94m-\u001b[1m\u001b[94m-\u001b[1m\u001b[94m-\u001b[1m\u001b[94m-\u001b[1m\u001b[94m-\u001b[1m\u001b[94m-\u001b[1m\u001b[94m-\u001b[1m\u001b[94m-\u001b[1m\u001b[94m-\u001b[1m\u001b[94m- \n",
      "                                   FOLD 3\n",
      "-------------------------------------------------------------------------------- \u001b[0m\n",
      "Q1(206), Q2(157), Q3(107), Q4(120), Q5(87), Q6(69), Q7(84), Q8(49), Q9(120), Q10(65), Q11(69), Q12(85), Q13(88), Q14(149), Q15(125), Q16(84), Q17(62), Q18(115), \n",
      "\u001b[1m\u001b[94m-\u001b[1m\u001b[94m-\u001b[1m\u001b[94m-\u001b[1m\u001b[94m-\u001b[1m\u001b[94m-\u001b[1m\u001b[94m-\u001b[1m\u001b[94m-\u001b[1m\u001b[94m-\u001b[1m\u001b[94m-\u001b[1m\u001b[94m-\u001b[1m\u001b[94m-\u001b[1m\u001b[94m-\u001b[1m\u001b[94m-\u001b[1m\u001b[94m-\u001b[1m\u001b[94m-\u001b[1m\u001b[94m-\u001b[1m\u001b[94m-\u001b[1m\u001b[94m-\u001b[1m\u001b[94m-\u001b[1m\u001b[94m-\u001b[1m\u001b[94m-\u001b[1m\u001b[94m-\u001b[1m\u001b[94m-\u001b[1m\u001b[94m-\u001b[1m\u001b[94m-\u001b[1m\u001b[94m-\u001b[1m\u001b[94m-\u001b[1m\u001b[94m-\u001b[1m\u001b[94m-\u001b[1m\u001b[94m-\u001b[1m\u001b[94m-\u001b[1m\u001b[94m-\u001b[1m\u001b[94m-\u001b[1m\u001b[94m-\u001b[1m\u001b[94m-\u001b[1m\u001b[94m-\u001b[1m\u001b[94m-\u001b[1m\u001b[94m-\u001b[1m\u001b[94m-\u001b[1m\u001b[94m-\u001b[1m\u001b[94m-\u001b[1m\u001b[94m-\u001b[1m\u001b[94m-\u001b[1m\u001b[94m-\u001b[1m\u001b[94m-\u001b[1m\u001b[94m-\u001b[1m\u001b[94m-\u001b[1m\u001b[94m-\u001b[1m\u001b[94m-\u001b[1m\u001b[94m-\u001b[1m\u001b[94m-\u001b[1m\u001b[94m-\u001b[1m\u001b[94m-\u001b[1m\u001b[94m-\u001b[1m\u001b[94m-\u001b[1m\u001b[94m-\u001b[1m\u001b[94m-\u001b[1m\u001b[94m-\u001b[1m\u001b[94m-\u001b[1m\u001b[94m-\u001b[1m\u001b[94m-\u001b[1m\u001b[94m-\u001b[1m\u001b[94m-\u001b[1m\u001b[94m-\u001b[1m\u001b[94m-\u001b[1m\u001b[94m-\u001b[1m\u001b[94m-\u001b[1m\u001b[94m-\u001b[1m\u001b[94m-\u001b[1m\u001b[94m-\u001b[1m\u001b[94m-\u001b[1m\u001b[94m-\u001b[1m\u001b[94m-\u001b[1m\u001b[94m-\u001b[1m\u001b[94m-\u001b[1m\u001b[94m-\u001b[1m\u001b[94m-\u001b[1m\u001b[94m-\u001b[1m\u001b[94m-\u001b[1m\u001b[94m- \n",
      "                                   FOLD 4\n",
      "-------------------------------------------------------------------------------- \u001b[0m\n",
      "Q1(131), Q2(121), Q3(122), Q4(126), Q5(116), Q6(94), Q7(100), Q8(36), Q9(59), Q10(73), Q11(127), Q12(105), Q13(70), Q14(208), Q15(87), Q16(55), Q17(87), Q18(129), \n",
      "\u001b[1m\u001b[94m-\u001b[1m\u001b[94m-\u001b[1m\u001b[94m-\u001b[1m\u001b[94m-\u001b[1m\u001b[94m-\u001b[1m\u001b[94m-\u001b[1m\u001b[94m-\u001b[1m\u001b[94m-\u001b[1m\u001b[94m-\u001b[1m\u001b[94m-\u001b[1m\u001b[94m-\u001b[1m\u001b[94m-\u001b[1m\u001b[94m-\u001b[1m\u001b[94m-\u001b[1m\u001b[94m-\u001b[1m\u001b[94m-\u001b[1m\u001b[94m-\u001b[1m\u001b[94m-\u001b[1m\u001b[94m-\u001b[1m\u001b[94m-\u001b[1m\u001b[94m-\u001b[1m\u001b[94m-\u001b[1m\u001b[94m-\u001b[1m\u001b[94m-\u001b[1m\u001b[94m-\u001b[1m\u001b[94m-\u001b[1m\u001b[94m-\u001b[1m\u001b[94m-\u001b[1m\u001b[94m-\u001b[1m\u001b[94m-\u001b[1m\u001b[94m-\u001b[1m\u001b[94m-\u001b[1m\u001b[94m-\u001b[1m\u001b[94m-\u001b[1m\u001b[94m-\u001b[1m\u001b[94m-\u001b[1m\u001b[94m-\u001b[1m\u001b[94m-\u001b[1m\u001b[94m-\u001b[1m\u001b[94m-\u001b[1m\u001b[94m-\u001b[1m\u001b[94m-\u001b[1m\u001b[94m-\u001b[1m\u001b[94m-\u001b[1m\u001b[94m-\u001b[1m\u001b[94m-\u001b[1m\u001b[94m-\u001b[1m\u001b[94m-\u001b[1m\u001b[94m-\u001b[1m\u001b[94m-\u001b[1m\u001b[94m-\u001b[1m\u001b[94m-\u001b[1m\u001b[94m-\u001b[1m\u001b[94m-\u001b[1m\u001b[94m-\u001b[1m\u001b[94m-\u001b[1m\u001b[94m-\u001b[1m\u001b[94m-\u001b[1m\u001b[94m-\u001b[1m\u001b[94m-\u001b[1m\u001b[94m-\u001b[1m\u001b[94m-\u001b[1m\u001b[94m-\u001b[1m\u001b[94m-\u001b[1m\u001b[94m-\u001b[1m\u001b[94m-\u001b[1m\u001b[94m-\u001b[1m\u001b[94m-\u001b[1m\u001b[94m-\u001b[1m\u001b[94m-\u001b[1m\u001b[94m-\u001b[1m\u001b[94m-\u001b[1m\u001b[94m-\u001b[1m\u001b[94m-\u001b[1m\u001b[94m-\u001b[1m\u001b[94m-\u001b[1m\u001b[94m-\u001b[1m\u001b[94m-\u001b[1m\u001b[94m-\u001b[1m\u001b[94m- \n",
      "                                   FOLD 5\n",
      "-------------------------------------------------------------------------------- \u001b[0m\n",
      "Q1(161), Q2(106), Q3(117), Q4(140), Q5(51), Q6(145), Q7(83), Q8(54), Q9(121), Q10(57), Q11(65), Q12(204), Q13(111), Q14(76), Q15(234), Q16(58), Q17(71), Q18(81), \n",
      "\n",
      "Cross validation finished.\n"
     ]
    }
   ],
   "source": [
    "if not INFERENCE:\n",
    "    \n",
    "    gkf = GroupKFold(n_splits=N_FOLDS)\n",
    "    oof = cudf.DataFrame(data=np.zeros((len(SESSIONS), 18)), index=SESSIONS)\n",
    "    models = {}\n",
    "    best_ntree_limits = {} # to keep track of it in case of retraining\n",
    "\n",
    "    # Compute CV score with 5-group K-fold\n",
    "    for i, (train_index, valid_index) in enumerate(gkf.split(X=df, groups=df.index)):\n",
    "        print('\\033[1m\\033[94m-' * 80, f\"\\n{' ' * 35}FOLD {i + 1}\")\n",
    "        print('-' * 80, '\\033[0m')\n",
    "\n",
    "        # Iterate from question 1 to 18\n",
    "        for q in range(1, 19):\n",
    "\n",
    "            # Select the question group\n",
    "            if q <= 3: grp = '0-4'\n",
    "            elif q <=13: grp = '5-12'\n",
    "            elif q <= 22: grp = '13-22'\n",
    "\n",
    "            # Train data\n",
    "            train_x = df.iloc[train_index]\n",
    "            train_x = train_x[train_x.level_group == grp]\n",
    "            train_sessions = train_x.index.values\n",
    "            train_y = labels[labels.question == q]\\\n",
    "                .set_index('session').loc[train_sessions]\n",
    "\n",
    "            # Valid data\n",
    "            valid_x = df.iloc[valid_index]\n",
    "            valid_x = valid_x[valid_x.level_group == grp]\n",
    "            valid_sessions = valid_x.index.values\n",
    "            valid_y = labels[labels.question == q]\\\n",
    "                .set_index('session').loc[valid_sessions]\n",
    "\n",
    "            # Train model\n",
    "            clf = XGBClassifier(**xgb_params)\n",
    "            clf.fit(train_x[FEATURES].astype('float32'),\n",
    "                    train_y['correct'],\n",
    "                    eval_set=[(valid_x[FEATURES].astype('float32'),\n",
    "                               valid_y['correct'])],\n",
    "                    verbose=0)\n",
    "\n",
    "            # Best_ntree_limit\n",
    "            best_ntree_limits[f'fold{i+1}_q{q}'] = clf.best_ntree_limit\n",
    "            print(f'Q{q}({clf.best_ntree_limit}), ', end='')\n",
    "\n",
    "            # Save and predict valid\n",
    "            models[f'{grp}_{q}'] = clf\n",
    "            oof.loc[valid_sessions, q - 1] = clf.predict_proba(valid_x[FEATURES])[:, 1]\n",
    "\n",
    "        print()\n",
    "        \n",
    "    print(\"\\nCross validation finished.\")\n",
    "    \n",
    "else:\n",
    "    print(\"Inference. No cross validation.\")"
   ]
  },
  {
   "cell_type": "markdown",
   "id": "a0be2dda",
   "metadata": {
    "papermill": {
     "duration": 0.009014,
     "end_time": "2023-02-26T15:05:40.951348",
     "exception": false,
     "start_time": "2023-02-26T15:05:40.942334",
     "status": "completed"
    },
    "tags": []
   },
   "source": [
    "The models predicted values on the different validation folds are stored in the **out-of-fold** (oof) dataframe. These predictions represent the confidence that a given `session_id` and `question` are correct, on a scale from 0 to 1. We must now decide when to consider a question as correct or not by finding the threshold that gives the best final score. While we could arbitrarily take 0.5, **this value is not necessarily the best one**, and it is smarter to try different values to find the optimal threshold."
   ]
  },
  {
   "cell_type": "code",
   "execution_count": 7,
   "id": "6a66a780",
   "metadata": {
    "execution": {
     "iopub.execute_input": "2023-02-26T15:05:40.971822Z",
     "iopub.status.busy": "2023-02-26T15:05:40.971215Z",
     "iopub.status.idle": "2023-02-26T15:05:44.217312Z",
     "shell.execute_reply": "2023-02-26T15:05:44.215349Z"
    },
    "papermill": {
     "duration": 3.259022,
     "end_time": "2023-02-26T15:05:44.219878",
     "exception": false,
     "start_time": "2023-02-26T15:05:40.960856",
     "status": "completed"
    },
    "tags": []
   },
   "outputs": [
    {
     "data": {
      "application/vnd.jupyter.widget-view+json": {
       "model_id": "b0065e594ea84361885a4e11a79bb979",
       "version_major": 2,
       "version_minor": 0
      },
      "text/plain": [
       "  0%|          | 0/31 [00:00<?, ?it/s]"
      ]
     },
     "metadata": {},
     "output_type": "display_data"
    },
    {
     "data": {
      "image/png": "[encoded data removed]",
      "text/plain": [
       "<Figure size 1152x360 with 1 Axes>"
      ]
     },
     "metadata": {
      "needs_background": "light"
     },
     "output_type": "display_data"
    },
    {
     "name": "stdout",
     "output_type": "stream",
     "text": [
      "Using optimal threshold of 0.63\n",
      "-----------------------------------\n",
      " Q1: F1 = 0.606820\n",
      " Q2: F1 = 0.494615\n",
      " Q3: F1 = 0.489804\n",
      " Q4: F1 = 0.626662\n",
      " Q5: F1 = 0.575302\n",
      " Q6: F1 = 0.608647\n",
      " Q7: F1 = 0.599481\n",
      " Q8: F1 = 0.529237\n",
      " Q9: F1 = 0.606214\n",
      " Q10: F1 = 0.501482\n",
      " Q11: F1 = 0.593911\n",
      " Q12: F1 = 0.502360\n",
      " Q13: F1 = 0.432425\n",
      " Q14: F1 = 0.612137\n",
      " Q15: F1 = 0.507235\n",
      " Q16: F1 = 0.457237\n",
      " Q17: F1 = 0.543378\n",
      " Q18: F1 = 0.490521\n",
      "-----------------------------------\n",
      "Overall F1 = 0.679604\n"
     ]
    }
   ],
   "source": [
    "if not INFERENCE:\n",
    "    \n",
    "    # Put true labels into dataframe with 18 columns\n",
    "    true = oof.copy()\n",
    "    for q in range(1, 19):\n",
    "        tmp = labels.loc[labels.question == q].set_index('session')\n",
    "        true[q - 1] = tmp['correct'].values\n",
    "\n",
    "    # Find the optimal threshold for the final preditions\n",
    "    scores, thresholds = [], []\n",
    "    best_score, best_threshold = 0, 0\n",
    "    for thr in tqdm(np.arange(0.550, 0.705, 0.005)):\n",
    "        preds = (oof.to_pandas().values > thr).astype(int).reshape(-1)\n",
    "        m = f1_score(true.to_pandas().values.reshape(-1), preds, average='macro')\n",
    "        scores.append(m)\n",
    "        thresholds.append(thr)\n",
    "        if m > best_score:\n",
    "            best_score = m\n",
    "            best_threshold = round(thr, 3)\n",
    "    models['threshold'] = best_threshold\n",
    "\n",
    "    # Display threshold curve\n",
    "    plt.figure(figsize=(16, 5))\n",
    "    plt.scatter(best_threshold, best_score, s=200,\n",
    "                marker='x', color='red', lw=5, zorder=2)\n",
    "    plt.plot(thresholds, scores, zorder=0)\n",
    "    plt.scatter(thresholds, scores, color='black')\n",
    "    plt.legend(['Best F1-score'], loc='upper left')\n",
    "    plt.xlabel(\"Threshold\", size=12)\n",
    "    plt.ylabel(\"Validation F1-score\", size=12)\n",
    "    plt.title(f\"Best F1 = {best_score:.4f} | Threshold = {best_threshold}\", size=16)\n",
    "    plt.show()\n",
    "\n",
    "    # Detail for each model\n",
    "    print(f\"Using optimal threshold of {best_threshold}\")\n",
    "    print('-' * 35)\n",
    "    for k in range(18):\n",
    "    \n",
    "        # Compute F1 score per question\n",
    "        preds = (oof[k].to_pandas().values > best_threshold).astype(int)\n",
    "        m = f1_score(true[k].to_pandas().values, preds, average='macro')\n",
    "        print(f\" Q{k+1}: F1 = {m:.6f}\")\n",
    "    \n",
    "    preds = (oof.to_pandas().values.reshape((-1)) > best_threshold).astype('int')\n",
    "    m = f1_score(true.to_pandas().values.reshape((-1)), preds, average='macro')\n",
    "    print('-' * 35)\n",
    "    print(f\"Overall F1 = {m:.6f}\")\n",
    "\n",
    "else:\n",
    "    print(\"Inference.\")"
   ]
  },
  {
   "cell_type": "markdown",
   "id": "8dbf2d30",
   "metadata": {
    "papermill": {
     "duration": 0.009726,
     "end_time": "2023-02-26T15:05:44.240266",
     "exception": false,
     "start_time": "2023-02-26T15:05:44.230540",
     "status": "completed"
    },
    "tags": []
   },
   "source": [
    "After trying different thresholds in the range of [0.40, 0.80], we observe that the validation F1-score follows a bell curve. The optimal threshold is the one that **maximizes this curve**, and we should use this value when reusing this model for inference.\n",
    "\n",
    "# Retraining\n",
    "The model can be retrained on **all the data**  after cross-validation. To do this, we take the average of the `best_ntree_limit` values across the folds for each of the 18 models, since the stopping criterion is based on a validation set. However, we do not have access to a validation set when retraining the model on all the data."
   ]
  },
  {
   "cell_type": "code",
   "execution_count": 8,
   "id": "519c1876",
   "metadata": {
    "execution": {
     "iopub.execute_input": "2023-02-26T15:05:44.261647Z",
     "iopub.status.busy": "2023-02-26T15:05:44.260714Z",
     "iopub.status.idle": "2023-02-26T15:05:48.553053Z",
     "shell.execute_reply": "2023-02-26T15:05:48.552280Z"
    },
    "papermill": {
     "duration": 4.305058,
     "end_time": "2023-02-26T15:05:48.555229",
     "exception": false,
     "start_time": "2023-02-26T15:05:44.250171",
     "status": "completed"
    },
    "tags": []
   },
   "outputs": [
    {
     "name": "stdout",
     "output_type": "stream",
     "text": [
      "\u001b[1m\u001b[94m-\u001b[1m\u001b[94m-\u001b[1m\u001b[94m-\u001b[1m\u001b[94m-\u001b[1m\u001b[94m-\u001b[1m\u001b[94m-\u001b[1m\u001b[94m-\u001b[1m\u001b[94m-\u001b[1m\u001b[94m-\u001b[1m\u001b[94m-\u001b[1m\u001b[94m-\u001b[1m\u001b[94m-\u001b[1m\u001b[94m-\u001b[1m\u001b[94m-\u001b[1m\u001b[94m-\u001b[1m\u001b[94m-\u001b[1m\u001b[94m-\u001b[1m\u001b[94m-\u001b[1m\u001b[94m-\u001b[1m\u001b[94m-\u001b[1m\u001b[94m-\u001b[1m\u001b[94m-\u001b[1m\u001b[94m-\u001b[1m\u001b[94m-\u001b[1m\u001b[94m-\u001b[1m\u001b[94m-\u001b[1m\u001b[94m-\u001b[1m\u001b[94m-\u001b[1m\u001b[94m-\u001b[1m\u001b[94m-\u001b[1m\u001b[94m-\u001b[1m\u001b[94m-\u001b[1m\u001b[94m-\u001b[1m\u001b[94m-\u001b[1m\u001b[94m-\u001b[1m\u001b[94m-\u001b[1m\u001b[94m-\u001b[1m\u001b[94m-\u001b[1m\u001b[94m-\u001b[1m\u001b[94m-\u001b[1m\u001b[94m-\u001b[1m\u001b[94m-\u001b[1m\u001b[94m-\u001b[1m\u001b[94m-\u001b[1m\u001b[94m-\u001b[1m\u001b[94m-\u001b[1m\u001b[94m-\u001b[1m\u001b[94m-\u001b[1m\u001b[94m-\u001b[1m\u001b[94m-\u001b[1m\u001b[94m-\u001b[1m\u001b[94m-\u001b[1m\u001b[94m-\u001b[1m\u001b[94m-\u001b[1m\u001b[94m-\u001b[1m\u001b[94m-\u001b[1m\u001b[94m-\u001b[1m\u001b[94m-\u001b[1m\u001b[94m-\u001b[1m\u001b[94m-\u001b[1m\u001b[94m-\u001b[1m\u001b[94m-\u001b[1m\u001b[94m-\u001b[1m\u001b[94m-\u001b[1m\u001b[94m-\u001b[1m\u001b[94m-\u001b[1m\u001b[94m-\u001b[1m\u001b[94m-\u001b[1m\u001b[94m-\u001b[1m\u001b[94m-\u001b[1m\u001b[94m-\u001b[1m\u001b[94m-\u001b[1m\u001b[94m-\u001b[1m\u001b[94m-\u001b[1m\u001b[94m-\u001b[1m\u001b[94m-\u001b[1m\u001b[94m-\u001b[1m\u001b[94m-\u001b[1m\u001b[94m-\u001b[1m\u001b[94m- \n",
      "                                   RETRAINING\n",
      "-------------------------------------------------------------------------------- \u001b[0m\n",
      "Q1(176), Q2(139), Q3(119), Q4(153), Q5(89), Q6(118), Q7(110), Q8(67), Q9(103), Q10(97), Q11(92), Q12(109), Q13(104), Q14(141), Q15(133), Q16(69), Q17(66), Q18(111), \n",
      "\n",
      "The models have been retrained using all the data.\n"
     ]
    }
   ],
   "source": [
    "if INFERENCE:\n",
    "    print(\"Inference mode. Use models from the dataset.\")\n",
    "\n",
    "elif RETAIN_WITH_ALL_DATA:\n",
    "    print('\\033[1m\\033[94m-' * 80, f\"\\n{' ' * 35}RETRAINING\")\n",
    "    print('-' * 80, '\\033[0m')\n",
    "    \n",
    "    # Average best trees\n",
    "    estimators = []\n",
    "    for q in range(1, 19):\n",
    "        avg = 0\n",
    "        for fold in range(1, N_FOLDS + 1):\n",
    "            avg += best_ntree_limits[f'fold{fold}_q{q}'] / N_FOLDS\n",
    "        estimators.append(round(avg))\n",
    "        \n",
    "    # Disable early stopping\n",
    "    xgb_params['early_stopping_rounds'] = None\n",
    "\n",
    "    models = {}\n",
    "    # Iterate from question 1 to 18\n",
    "    for q in range(1, 19):   \n",
    "        # Select the number of estimators\n",
    "        xgb_params['n_estimators'] = estimators[q - 1]\n",
    "        \n",
    "        # Select the question group\n",
    "        if q <= 3: grp = '0-4'\n",
    "        elif q <=13: grp = '5-12'\n",
    "        elif q <= 22: grp = '13-22'\n",
    "\n",
    "        # Train data\n",
    "        train_x = df[df.level_group == grp]\n",
    "        train_y = labels[labels.question == q].set_index('session')\n",
    "\n",
    "        # Train model\n",
    "        clf = XGBClassifier(**xgb_params)\n",
    "        clf.fit(train_x[FEATURES].astype('float32'),\n",
    "                train_y['correct'],\n",
    "                verbose=0)\n",
    "\n",
    "        print(f'Q{q}({clf.best_ntree_limit}), ', end='')\n",
    "\n",
    "        # Save model\n",
    "        models[f'{grp}_{q}'] = clf\n",
    "\n",
    "    print(\"\\n\\nThe models have been retrained using all the data.\")\n",
    "\n",
    "else:\n",
    "    print(\"No retraining. Models trained with last fold.\")"
   ]
  },
  {
   "cell_type": "markdown",
   "id": "22024737",
   "metadata": {
    "papermill": {
     "duration": 0.010318,
     "end_time": "2023-02-26T15:05:48.578167",
     "exception": false,
     "start_time": "2023-02-26T15:05:48.567849",
     "status": "completed"
    },
    "tags": []
   },
   "source": [
    "# Save models\n",
    "I save the dictionary of models in **json format** in order to reuse it in another inference notebook."
   ]
  },
  {
   "cell_type": "code",
   "execution_count": 9,
   "id": "6849669f",
   "metadata": {
    "execution": {
     "iopub.execute_input": "2023-02-26T15:05:48.600777Z",
     "iopub.status.busy": "2023-02-26T15:05:48.600485Z",
     "iopub.status.idle": "2023-02-26T15:05:48.746693Z",
     "shell.execute_reply": "2023-02-26T15:05:48.745756Z"
    },
    "papermill": {
     "duration": 0.160204,
     "end_time": "2023-02-26T15:05:48.749029",
     "exception": false,
     "start_time": "2023-02-26T15:05:48.588825",
     "status": "completed"
    },
    "tags": []
   },
   "outputs": [],
   "source": [
    "if INFERENCE:\n",
    "    print(\"Inference mode.\")\n",
    "elif SAVE:\n",
    "    os.makedirs('models', exist_ok=True)\n",
    "    # Save threshold\n",
    "    thr_dict = {'threshold': best_threshold}\n",
    "    with open(\"models/threshold.json\", \"w\") as f:\n",
    "        json.dump(thr_dict, f)\n",
    "    # Save models\n",
    "    for name, model in models.items():\n",
    "        model.save_model(f'models/{name}.json')\n",
    "    # Zip the folder\n",
    "    folder_name = 'models'\n",
    "    with zipfile.ZipFile('models.zip', mode=\"w\") as my_zip:\n",
    "        for root, _, files in os.walk(folder_name):\n",
    "            for file in files:\n",
    "                file_path = os.path.join(root, file)\n",
    "                arcname = os.path.relpath(file_path, folder_name)\n",
    "                my_zip.write(file_path, arcname=arcname)\n",
    "else:\n",
    "    print(\"Models not saved.\")"
   ]
  },
  {
   "cell_type": "markdown",
   "id": "e522fce1",
   "metadata": {
    "papermill": {
     "duration": 0.010123,
     "end_time": "2023-02-26T15:05:48.770012",
     "exception": false,
     "start_time": "2023-02-26T15:05:48.759889",
     "status": "completed"
    },
    "tags": []
   },
   "source": [
    "# Inference\n",
    "Inference **should use the CPU**"
   ]
  },
  {
   "cell_type": "code",
   "execution_count": 10,
   "id": "c41f05e3",
   "metadata": {
    "execution": {
     "iopub.execute_input": "2023-02-26T15:05:48.793035Z",
     "iopub.status.busy": "2023-02-26T15:05:48.792738Z",
     "iopub.status.idle": "2023-02-26T15:05:48.802287Z",
     "shell.execute_reply": "2023-02-26T15:05:48.801229Z"
    },
    "papermill": {
     "duration": 0.023383,
     "end_time": "2023-02-26T15:05:48.804356",
     "exception": false,
     "start_time": "2023-02-26T15:05:48.780973",
     "status": "completed"
    },
    "tags": []
   },
   "outputs": [
    {
     "name": "stdout",
     "output_type": "stream",
     "text": [
      "No inference.\n"
     ]
    }
   ],
   "source": [
    "if INFERENCE:\n",
    "    \n",
    "    # Use the competition env\n",
    "    import jo_wilder\n",
    "    env = jo_wilder.make_env()\n",
    "    iter_test = env.iter_test()\n",
    "\n",
    "    # Predict and create submission file\n",
    "    limits = {'0-4': (1, 4), '5-12': (4, 14), '13-22': (14, 19)}\n",
    "    with open(f'{MODELS_DIR}/threshold.json', 'r') as f:\n",
    "        threshold = json.load(f)['threshold']\n",
    "    for (sample_submission, test) in iter_test:\n",
    "        df = feature_engineer(test)\n",
    "        FEATURES = [c for c in df.columns if c != 'level_group']\n",
    "        grp = test.level_group.values[0]\n",
    "        a, b = limits[grp]\n",
    "        for q in range(a, b):\n",
    "            clf = XGBClassifier()\n",
    "            clf.load_model(f'{MODELS_DIR}/{grp}_{q}.json')\n",
    "            p = clf.predict_proba(df[FEATURES])[:, 1]\n",
    "            mask = sample_submission.session_id.str.contains(f'q{q}')\n",
    "            sample_submission.loc[mask, 'correct'] = int(p.item() > threshold)\n",
    "        env.predict(sample_submission)\n",
    "\n",
    "    # Check submission\n",
    "    df = pd.read_csv('submission.csv')\n",
    "    print(df.shape)\n",
    "\n",
    "else:\n",
    "    print(\"No inference.\")"
   ]
  },
  {
   "cell_type": "markdown",
   "id": "98d94750",
   "metadata": {
    "papermill": {
     "duration": 0.010558,
     "end_time": "2023-02-26T15:05:48.825908",
     "exception": false,
     "start_time": "2023-02-26T15:05:48.815350",
     "status": "completed"
    },
    "tags": []
   },
   "source": [
    "**Thank you for reading me, good luck in the competition! 🙂**"
   ]
  }
 ],
 "metadata": {
  "kernelspec": {
   "display_name": "Python 3",
   "language": "python",
   "name": "python3"
  },
  "language_info": {
   "codemirror_mode": {
    "name": "ipython",
    "version": 3
   },
   "file_extension": ".py",
   "mimetype": "text/x-python",
   "name": "python",
   "nbconvert_exporter": "python",
   "pygments_lexer": "ipython3",
   "version": "3.7.12"
  },
  "papermill": {
   "default_parameters": {},
   "duration": 122.646864,
   "end_time": "2023-02-26T15:05:50.359910",
   "environment_variables": {},
   "exception": null,
   "input_path": "__notebook__.ipynb",
   "output_path": "__notebook__.ipynb",
   "parameters": {},
   "start_time": "2023-02-26T15:03:47.713046",
   "version": "2.3.4"
  },
  "widgets": {
   "application/vnd.jupyter.widget-state+json": {
    "state": {
     "01ac5b7dd7514f619082feb6f9340e82": {
      "model_module": "@jupyter-widgets/controls",
      "model_module_version": "1.5.0",
      "model_name": "FloatProgressModel",
      "state": {
       "_dom_classes": [],
       "_model_module": "@jupyter-widgets/controls",
       "_model_module_version": "1.5.0",
       "_model_name": "FloatProgressModel",
       "_view_count": null,
       "_view_module": "@jupyter-widgets/controls",
       "_view_module_version": "1.5.0",
       "_view_name": "ProgressView",
       "bar_style": "success",
       "description": "",
       "description_tooltip": null,
       "layout": "IPY_MODEL_28cf90419ba44c0683c97884d61b6c39",
       "max": 31.0,
       "min": 0.0,
       "orientation": "horizontal",
       "style": "IPY_MODEL_667b679885374f82bbc021dc2976e27e",
       "value": 31.0
      }
     },
     "28cf90419ba44c0683c97884d61b6c39": {
      "model_module": "@jupyter-widgets/base",
      "model_module_version": "1.2.0",
      "model_name": "LayoutModel",
      "state": {
       "_model_module": "@jupyter-widgets/base",
       "_model_module_version": "1.2.0",
       "_model_name": "LayoutModel",
       "_view_count": null,
       "_view_module": "@jupyter-widgets/base",
       "_view_module_version": "1.2.0",
       "_view_name": "LayoutView",
       "align_content": null,
       "align_items": null,
       "align_self": null,
       "border": null,
       "bottom": null,
       "display": null,
       "flex": null,
       "flex_flow": null,
       "grid_area": null,
       "grid_auto_columns": null,
       "grid_auto_flow": null,
       "grid_auto_rows": null,
       "grid_column": null,
       "grid_gap": null,
       "grid_row": null,
       "grid_template_areas": null,
       "grid_template_columns": null,
       "grid_template_rows": null,
       "height": null,
       "justify_content": null,
       "justify_items": null,
       "left": null,
       "margin": null,
       "max_height": null,
       "max_width": null,
       "min_height": null,
       "min_width": null,
       "object_fit": null,
       "object_position": null,
       "order": null,
       "overflow": null,
       "overflow_x": null,
       "overflow_y": null,
       "padding": null,
       "right": null,
       "top": null,
       "visibility": null,
       "width": null
      }
     },
     "667b679885374f82bbc021dc2976e27e": {
      "model_module": "@jupyter-widgets/controls",
      "model_module_version": "1.5.0",
      "model_name": "ProgressStyleModel",
      "state": {
       "_model_module": "@jupyter-widgets/controls",
       "_model_module_version": "1.5.0",
       "_model_name": "ProgressStyleModel",
       "_view_count": null,
       "_view_module": "@jupyter-widgets/base",
       "_view_module_version": "1.2.0",
       "_view_name": "StyleView",
       "bar_color": null,
       "description_width": ""
      }
     },
     "7e8414546a5946a3a35ae7483763d1ec": {
      "model_module": "@jupyter-widgets/base",
      "model_module_version": "1.2.0",
      "model_name": "LayoutModel",
      "state": {
       "_model_module": "@jupyter-widgets/base",
       "_model_module_version": "1.2.0",
       "_model_name": "LayoutModel",
       "_view_count": null,
       "_view_module": "@jupyter-widgets/base",
       "_view_module_version": "1.2.0",
       "_view_name": "LayoutView",
       "align_content": null,
       "align_items": null,
       "align_self": null,
       "border": null,
       "bottom": null,
       "display": null,
       "flex": null,
       "flex_flow": null,
       "grid_area": null,
       "grid_auto_columns": null,
       "grid_auto_flow": null,
       "grid_auto_rows": null,
       "grid_column": null,
       "grid_gap": null,
       "grid_row": null,
       "grid_template_areas": null,
       "grid_template_columns": null,
       "grid_template_rows": null,
       "height": null,
       "justify_content": null,
       "justify_items": null,
       "left": null,
       "margin": null,
       "max_height": null,
       "max_width": null,
       "min_height": null,
       "min_width": null,
       "object_fit": null,
       "object_position": null,
       "order": null,
       "overflow": null,
       "overflow_x": null,
       "overflow_y": null,
       "padding": null,
       "right": null,
       "top": null,
       "visibility": null,
       "width": null
      }
     },
     "82813f5c781741d0bd4464108c6e5ecb": {
      "model_module": "@jupyter-widgets/base",
      "model_module_version": "1.2.0",
      "model_name": "LayoutModel",
      "state": {
       "_model_module": "@jupyter-widgets/base",
       "_model_module_version": "1.2.0",
       "_model_name": "LayoutModel",
       "_view_count": null,
       "_view_module": "@jupyter-widgets/base",
       "_view_module_version": "1.2.0",
       "_view_name": "LayoutView",
       "align_content": null,
       "align_items": null,
       "align_self": null,
       "border": null,
       "bottom": null,
       "display": null,
       "flex": null,
       "flex_flow": null,
       "grid_area": null,
       "grid_auto_columns": null,
       "grid_auto_flow": null,
       "grid_auto_rows": null,
       "grid_column": null,
       "grid_gap": null,
       "grid_row": null,
       "grid_template_areas": null,
       "grid_template_columns": null,
       "grid_template_rows": null,
       "height": null,
       "justify_content": null,
       "justify_items": null,
       "left": null,
       "margin": null,
       "max_height": null,
       "max_width": null,
       "min_height": null,
       "min_width": null,
       "object_fit": null,
       "object_position": null,
       "order": null,
       "overflow": null,
       "overflow_x": null,
       "overflow_y": null,
       "padding": null,
       "right": null,
       "top": null,
       "visibility": null,
       "width": null
      }
     },
     "87c1cf20563f4e9294c3e7c76b44c0c7": {
      "model_module": "@jupyter-widgets/base",
      "model_module_version": "1.2.0",
      "model_name": "LayoutModel",
      "state": {
       "_model_module": "@jupyter-widgets/base",
       "_model_module_version": "1.2.0",
       "_model_name": "LayoutModel",
       "_view_count": null,
       "_view_module": "@jupyter-widgets/base",
       "_view_module_version": "1.2.0",
       "_view_name": "LayoutView",
       "align_content": null,
       "align_items": null,
       "align_self": null,
       "border": null,
       "bottom": null,
       "display": null,
       "flex": null,
       "flex_flow": null,
       "grid_area": null,
       "grid_auto_columns": null,
       "grid_auto_flow": null,
       "grid_auto_rows": null,
       "grid_column": null,
       "grid_gap": null,
       "grid_row": null,
       "grid_template_areas": null,
       "grid_template_columns": null,
       "grid_template_rows": null,
       "height": null,
       "justify_content": null,
       "justify_items": null,
       "left": null,
       "margin": null,
       "max_height": null,
       "max_width": null,
       "min_height": null,
       "min_width": null,
       "object_fit": null,
       "object_position": null,
       "order": null,
       "overflow": null,
       "overflow_x": null,
       "overflow_y": null,
       "padding": null,
       "right": null,
       "top": null,
       "visibility": null,
       "width": null
      }
     },
     "aa114226cff549c2bec0a879222eedbf": {
      "model_module": "@jupyter-widgets/controls",
      "model_module_version": "1.5.0",
      "model_name": "DescriptionStyleModel",
      "state": {
       "_model_module": "@jupyter-widgets/controls",
       "_model_module_version": "1.5.0",
       "_model_name": "DescriptionStyleModel",
       "_view_count": null,
       "_view_module": "@jupyter-widgets/base",
       "_view_module_version": "1.2.0",
       "_view_name": "StyleView",
       "description_width": ""
      }
     },
     "b0065e594ea84361885a4e11a79bb979": {
      "model_module": "@jupyter-widgets/controls",
      "model_module_version": "1.5.0",
      "model_name": "HBoxModel",
      "state": {
       "_dom_classes": [],
       "_model_module": "@jupyter-widgets/controls",
       "_model_module_version": "1.5.0",
       "_model_name": "HBoxModel",
       "_view_count": null,
       "_view_module": "@jupyter-widgets/controls",
       "_view_module_version": "1.5.0",
       "_view_name": "HBoxView",
       "box_style": "",
       "children": [
        "IPY_MODEL_d467f95fa42c46b482727b6591d6db90",
        "IPY_MODEL_01ac5b7dd7514f619082feb6f9340e82",
        "IPY_MODEL_f0ca97aac45246cea811380053090f71"
       ],
       "layout": "IPY_MODEL_87c1cf20563f4e9294c3e7c76b44c0c7"
      }
     },
     "cee14f41114444c9a7a50ae268ef69ba": {
      "model_module": "@jupyter-widgets/controls",
      "model_module_version": "1.5.0",
      "model_name": "DescriptionStyleModel",
      "state": {
       "_model_module": "@jupyter-widgets/controls",
       "_model_module_version": "1.5.0",
       "_model_name": "DescriptionStyleModel",
       "_view_count": null,
       "_view_module": "@jupyter-widgets/base",
       "_view_module_version": "1.2.0",
       "_view_name": "StyleView",
       "description_width": ""
      }
     },
     "d467f95fa42c46b482727b6591d6db90": {
      "model_module": "@jupyter-widgets/controls",
      "model_module_version": "1.5.0",
      "model_name": "HTMLModel",
      "state": {
       "_dom_classes": [],
       "_model_module": "@jupyter-widgets/controls",
       "_model_module_version": "1.5.0",
       "_model_name": "HTMLModel",
       "_view_count": null,
       "_view_module": "@jupyter-widgets/controls",
       "_view_module_version": "1.5.0",
       "_view_name": "HTMLView",
       "description": "",
       "description_tooltip": null,
       "layout": "IPY_MODEL_7e8414546a5946a3a35ae7483763d1ec",
       "placeholder": "​",
       "style": "IPY_MODEL_cee14f41114444c9a7a50ae268ef69ba",
       "value": "100%"
      }
     },
     "f0ca97aac45246cea811380053090f71": {
      "model_module": "@jupyter-widgets/controls",
      "model_module_version": "1.5.0",
      "model_name": "HTMLModel",
      "state": {
       "_dom_classes": [],
       "_model_module": "@jupyter-widgets/controls",
       "_model_module_version": "1.5.0",
       "_model_name": "HTMLModel",
       "_view_count": null,
       "_view_module": "@jupyter-widgets/controls",
       "_view_module_version": "1.5.0",
       "_view_name": "HTMLView",
       "description": "",
       "description_tooltip": null,
       "layout": "IPY_MODEL_82813f5c781741d0bd4464108c6e5ecb",
       "placeholder": "​",
       "style": "IPY_MODEL_aa114226cff549c2bec0a879222eedbf",
       "value": " 31/31 [00:02&lt;00:00, 11.56it/s]"
      }
     }
    },
    "version_major": 2,
    "version_minor": 0
   }
  }
 },
 "nbformat": 4,
 "nbformat_minor": 5
}
